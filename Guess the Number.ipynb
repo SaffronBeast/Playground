{
  "nbformat": 4,
  "nbformat_minor": 0,
  "metadata": {
    "colab": {
      "provenance": [],
      "authorship_tag": "ABX9TyNawN8UNLr5QCt7UXMFKhdb"
    },
    "kernelspec": {
      "name": "python3",
      "display_name": "Python 3"
    },
    "language_info": {
      "name": "python"
    }
  },
  "cells": [
    {
      "cell_type": "code",
      "execution_count": 1,
      "metadata": {
        "colab": {
          "base_uri": "https://localhost:8080/"
        },
        "id": "6UONtVeQdE6K",
        "outputId": "71902cad-3b43-437f-a764-897e81553478"
      },
      "outputs": [
        {
          "output_type": "stream",
          "name": "stdout",
          "text": [
            "Welcome to Guess the Number!\n",
            "I'm thinking of a number between 1 and 100.\n",
            "Take a guess: 12\n",
            "Too low!\n",
            "You have 6 guesses left.\n",
            "Take a guess: 56\n",
            "Too high!\n",
            "You have 5 guesses left.\n",
            "Take a guess: 30\n",
            "Too high!\n",
            "You have 4 guesses left.\n",
            "Take a guess: 18\n",
            "Too high!\n",
            "You have 3 guesses left.\n",
            "Take a guess: 13\n",
            "Too low!\n",
            "You have 2 guesses left.\n",
            "Take a guess: 15\n",
            "Too low!\n",
            "You have 1 guesses left.\n",
            "Take a guess: 16\n",
            "Congratulations! You guessed the number in 6 tries.\n"
          ]
        }
      ],
      "source": [
        "\n",
        "\n",
        "import random\n",
        "\n",
        "def guess_the_number():\n",
        "  \"\"\"A simple number guessing game.\"\"\"\n",
        "\n",
        "  secret_number = random.randint(1, 100)\n",
        "  guesses_left = 7\n",
        "\n",
        "  print(\"Welcome to Guess the Number!\")\n",
        "  print(\"I'm thinking of a number between 1 and 100.\")\n",
        "\n",
        "  while guesses_left > 0:\n",
        "    try:\n",
        "      guess = int(input(\"Take a guess: \"))\n",
        "    except ValueError:\n",
        "      print(\"Invalid input. Please enter a number.\")\n",
        "      continue\n",
        "\n",
        "    if guess < secret_number:\n",
        "      print(\"Too low!\")\n",
        "    elif guess > secret_number:\n",
        "      print(\"Too high!\")\n",
        "    else:\n",
        "      print(f\"Congratulations! You guessed the number in {7 - guesses_left} tries.\")\n",
        "      return\n",
        "\n",
        "    guesses_left -= 1\n",
        "    print(f\"You have {guesses_left} guesses left.\")\n",
        "\n",
        "  print(f\"You ran out of guesses. The number was {secret_number}.\")\n",
        "\n",
        "if __name__ == \"__main__\":\n",
        "  guess_the_number()\n"
      ]
    },
    {
      "cell_type": "code",
      "source": [],
      "metadata": {
        "id": "h03FoEYYfLEI"
      },
      "execution_count": null,
      "outputs": []
    }
  ]
}